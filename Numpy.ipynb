{
 "cells": [
  {
   "cell_type": "code",
   "execution_count": 1,
   "id": "8fc7ee7b",
   "metadata": {},
   "outputs": [],
   "source": [
    "import numpy as np"
   ]
  },
  {
   "cell_type": "markdown",
   "id": "2f568a90",
   "metadata": {},
   "source": [
    "### Arrays basics"
   ]
  },
  {
   "cell_type": "code",
   "execution_count": 4,
   "id": "701951e3",
   "metadata": {},
   "outputs": [
    {
     "data": {
      "text/plain": [
       "array([1, 2, 3, 4, 5], dtype=int8)"
      ]
     },
     "execution_count": 4,
     "metadata": {},
     "output_type": "execute_result"
    }
   ],
   "source": [
    "arr_1 = [1, 2, 3, 4, 5]\n",
    "\n",
    "#1-d array\n",
    "np_arr_1 = np.array(arr_1, dtype=np.int8)\n",
    "np_arr_1"
   ]
  },
  {
   "cell_type": "code",
   "execution_count": 5,
   "id": "6679bb3b",
   "metadata": {},
   "outputs": [
    {
     "data": {
      "text/plain": [
       "array([[1, 2, 3],\n",
       "       [4, 5, 6],\n",
       "       [7, 8, 9]])"
      ]
     },
     "execution_count": 5,
     "metadata": {},
     "output_type": "execute_result"
    }
   ],
   "source": [
    "multi_arr = [[1, 2, 3], [4, 5, 6], [7, 8, 9]]\n",
    "\n",
    "#multi dim array here, 2D\n",
    "np_multi_arr = np.array(multi_arr)\n",
    "np_multi_arr"
   ]
  },
  {
   "cell_type": "code",
   "execution_count": 7,
   "id": "a19e51b3",
   "metadata": {},
   "outputs": [
    {
     "data": {
      "text/plain": [
       "array([1, 2, 3, 4, 5, 6, 7, 8, 9])"
      ]
     },
     "execution_count": 7,
     "metadata": {},
     "output_type": "execute_result"
    }
   ],
   "source": [
    "#Defining the start value, stop value\n",
    "np.arange(1, 10)"
   ]
  },
  {
   "cell_type": "code",
   "execution_count": 8,
   "id": "e6f47f88",
   "metadata": {},
   "outputs": [
    {
     "data": {
      "text/plain": [
       "array([0.        , 0.83333333, 1.66666667, 2.5       , 3.33333333,\n",
       "       4.16666667, 5.        ])"
      ]
     },
     "execution_count": 8,
     "metadata": {},
     "output_type": "execute_result"
    }
   ],
   "source": [
    "# with start, end and no. of values here, with\n",
    "# 0 to 5 and 7 values in between\n",
    "np.linspace(0, 5, 7)"
   ]
  },
  {
   "cell_type": "code",
   "execution_count": 9,
   "id": "320c439d",
   "metadata": {},
   "outputs": [
    {
     "data": {
      "text/plain": [
       "array([0., 0., 0., 0.])"
      ]
     },
     "execution_count": 9,
     "metadata": {},
     "output_type": "execute_result"
    }
   ],
   "source": [
    "np.zeros(4) # 1D array of zeroes"
   ]
  },
  {
   "cell_type": "code",
   "execution_count": 10,
   "id": "4d3ba953",
   "metadata": {},
   "outputs": [
    {
     "data": {
      "text/plain": [
       "array([[0., 0., 0.],\n",
       "       [0., 0., 0.]])"
      ]
     },
     "execution_count": 10,
     "metadata": {},
     "output_type": "execute_result"
    }
   ],
   "source": [
    "np.zeros((2, 3)) # 2D 2x3 matrix of zeroes"
   ]
  },
  {
   "cell_type": "code",
   "execution_count": 23,
   "id": "d8e75b80",
   "metadata": {},
   "outputs": [
    {
     "data": {
      "text/plain": [
       "array([[1., 1., 1., 1.],\n",
       "       [1., 1., 1., 1.],\n",
       "       [1., 1., 1., 1.]])"
      ]
     },
     "execution_count": 23,
     "metadata": {},
     "output_type": "execute_result"
    }
   ],
   "source": [
    "np.ones((3, 4)) #same thing for ones"
   ]
  },
  {
   "cell_type": "code",
   "execution_count": 190,
   "id": "7b204df8",
   "metadata": {},
   "outputs": [
    {
     "data": {
      "text/plain": [
       "array([[1, 0, 0],\n",
       "       [0, 1, 0],\n",
       "       [0, 0, 1]])"
      ]
     },
     "execution_count": 190,
     "metadata": {},
     "output_type": "execute_result"
    }
   ],
   "source": [
    "# identity matrix\n",
    "np.eye(3, 3, dtype=int)"
   ]
  },
  {
   "cell_type": "code",
   "execution_count": 11,
   "id": "43da42f9",
   "metadata": {},
   "outputs": [
    {
     "data": {
      "text/plain": [
       "9"
      ]
     },
     "execution_count": 11,
     "metadata": {},
     "output_type": "execute_result"
    }
   ],
   "source": [
    "#find the size -> gives no. of elements in array\n",
    "np_multi_arr.size"
   ]
  },
  {
   "cell_type": "code",
   "execution_count": 12,
   "id": "1bcf23be",
   "metadata": {},
   "outputs": [
    {
     "data": {
      "text/plain": [
       "dtype('int64')"
      ]
     },
     "execution_count": 12,
     "metadata": {},
     "output_type": "execute_result"
    }
   ],
   "source": [
    "np_multi_arr.dtype"
   ]
  },
  {
   "cell_type": "code",
   "execution_count": 13,
   "id": "e666a42a",
   "metadata": {},
   "outputs": [
    {
     "data": {
      "text/plain": [
       "array([26, 22, 17, 19, 26, 49, 34])"
      ]
     },
     "execution_count": 13,
     "metadata": {},
     "output_type": "execute_result"
    }
   ],
   "source": [
    "# random values-> 7 item array from 10 to 50\n",
    "np.random.randint(10, 50, 7)"
   ]
  },
  {
   "cell_type": "code",
   "execution_count": 15,
   "id": "e4cd2424",
   "metadata": {},
   "outputs": [
    {
     "data": {
      "text/plain": [
       "array([[22, 49, 33],\n",
       "       [36, 39, 45]])"
      ]
     },
     "execution_count": 15,
     "metadata": {},
     "output_type": "execute_result"
    }
   ],
   "source": [
    "np.random.randint(10, 50, size=(2, 3)) # multi dim array"
   ]
  },
  {
   "cell_type": "markdown",
   "id": "04f0cd4f",
   "metadata": {},
   "source": [
    "### Slicing and indexing basics"
   ]
  },
  {
   "cell_type": "code",
   "execution_count": 18,
   "id": "8cc41c89",
   "metadata": {},
   "outputs": [
    {
     "data": {
      "text/plain": [
       "(array([[1, 2, 3],\n",
       "        [4, 5, 6],\n",
       "        [7, 8, 9]]),\n",
       " (3, 3))"
      ]
     },
     "execution_count": 18,
     "metadata": {},
     "output_type": "execute_result"
    }
   ],
   "source": [
    "#shape of array\n",
    "multi_arr = [[1, 2, 3], [4, 5, 6], [7, 8, 9]]\n",
    "\n",
    "#multi dim array here, 2D\n",
    "np_multi_arr = np.array(multi_arr)\n",
    "\n",
    "np_multi_arr, np_multi_arr.shape"
   ]
  },
  {
   "cell_type": "code",
   "execution_count": 19,
   "id": "e846437b",
   "metadata": {},
   "outputs": [
    {
     "data": {
      "text/plain": [
       "3"
      ]
     },
     "execution_count": 19,
     "metadata": {},
     "output_type": "execute_result"
    }
   ],
   "source": [
    "# get element by index\n",
    "np_multi_arr[0, 2]"
   ]
  },
  {
   "cell_type": "code",
   "execution_count": 21,
   "id": "adb834f6",
   "metadata": {},
   "outputs": [
    {
     "data": {
      "text/plain": [
       "3"
      ]
     },
     "execution_count": 21,
     "metadata": {},
     "output_type": "execute_result"
    }
   ],
   "source": [
    "np_multi_arr.item(0, 2)"
   ]
  },
  {
   "cell_type": "code",
   "execution_count": 22,
   "id": "4d16aac6",
   "metadata": {},
   "outputs": [
    {
     "data": {
      "text/plain": [
       "array([1, 3, 5])"
      ]
     },
     "execution_count": 22,
     "metadata": {},
     "output_type": "execute_result"
    }
   ],
   "source": [
    "# get specific indices, the indices list indicates \n",
    "# the indices of the values to extract\n",
    "np.take(np_multi_arr, [0, 2, 4])"
   ]
  },
  {
   "cell_type": "code",
   "execution_count": 24,
   "id": "a831754f",
   "metadata": {},
   "outputs": [
    {
     "data": {
      "text/plain": [
       "array([4, 5], dtype=int8)"
      ]
     },
     "execution_count": 24,
     "metadata": {},
     "output_type": "execute_result"
    }
   ],
   "source": [
    "np_arr_1[3: 5] #use like a normal list"
   ]
  },
  {
   "cell_type": "code",
   "execution_count": 25,
   "id": "bc57e8bc",
   "metadata": {},
   "outputs": [
    {
     "data": {
      "text/plain": [
       "array([1, 2, 3, 4], dtype=int8)"
      ]
     },
     "execution_count": 25,
     "metadata": {},
     "output_type": "execute_result"
    }
   ],
   "source": [
    "np_arr_1[:4]"
   ]
  },
  {
   "cell_type": "code",
   "execution_count": 26,
   "id": "4f4cc597",
   "metadata": {},
   "outputs": [
    {
     "data": {
      "text/plain": [
       "array([5, 4, 3, 2, 1], dtype=int8)"
      ]
     },
     "execution_count": 26,
     "metadata": {},
     "output_type": "execute_result"
    }
   ],
   "source": [
    "# reverse the array\n",
    "np_arr_1[::-1]"
   ]
  },
  {
   "cell_type": "code",
   "execution_count": 27,
   "id": "743543f3",
   "metadata": {},
   "outputs": [
    {
     "data": {
      "text/plain": [
       "array([1, 4, 7])"
      ]
     },
     "execution_count": 27,
     "metadata": {},
     "output_type": "execute_result"
    }
   ],
   "source": [
    "np_multi_arr[:, 0] #first column from all rows"
   ]
  },
  {
   "cell_type": "code",
   "execution_count": 28,
   "id": "970d4a58",
   "metadata": {},
   "outputs": [
    {
     "data": {
      "text/plain": [
       "array([5, 6, 7, 8, 9])"
      ]
     },
     "execution_count": 28,
     "metadata": {},
     "output_type": "execute_result"
    }
   ],
   "source": [
    "#perform comparisons\n",
    "np_multi_arr[np_multi_arr > 4]"
   ]
  },
  {
   "cell_type": "code",
   "execution_count": 30,
   "id": "526d23c2",
   "metadata": {},
   "outputs": [
    {
     "data": {
      "text/plain": [
       "array([5, 6, 7])"
      ]
     },
     "execution_count": 30,
     "metadata": {},
     "output_type": "execute_result"
    }
   ],
   "source": [
    "#multiple comparisons\n",
    "np_multi_arr[(np_multi_arr > 4) & (np_multi_arr < 8)]"
   ]
  },
  {
   "cell_type": "code",
   "execution_count": 32,
   "id": "5020e9dd",
   "metadata": {},
   "outputs": [],
   "source": [
    "# replace elements at indices 0, 3, 5 with values 2, 2, 2\n",
    "np.put(np_multi_arr, [0, 3, 5], [2, 2, 2])"
   ]
  },
  {
   "cell_type": "code",
   "execution_count": 33,
   "id": "81141662",
   "metadata": {},
   "outputs": [
    {
     "data": {
      "text/plain": [
       "array([[2, 2, 3],\n",
       "       [2, 5, 2],\n",
       "       [7, 8, 9]])"
      ]
     },
     "execution_count": 33,
     "metadata": {},
     "output_type": "execute_result"
    }
   ],
   "source": [
    "np_multi_arr"
   ]
  },
  {
   "cell_type": "code",
   "execution_count": 34,
   "id": "726e07c1",
   "metadata": {},
   "outputs": [
    {
     "data": {
      "text/plain": [
       "array([2, 3, 5, 7, 8, 9])"
      ]
     },
     "execution_count": 34,
     "metadata": {},
     "output_type": "execute_result"
    }
   ],
   "source": [
    "# unique values\n",
    "np.unique(np_multi_arr)"
   ]
  },
  {
   "cell_type": "markdown",
   "id": "c82cbdee",
   "metadata": {},
   "source": [
    "### Reshaping business"
   ]
  },
  {
   "cell_type": "code",
   "execution_count": 41,
   "id": "0628761c",
   "metadata": {},
   "outputs": [
    {
     "data": {
      "text/plain": [
       "array([[2],\n",
       "       [2],\n",
       "       [3],\n",
       "       [2],\n",
       "       [5],\n",
       "       [2],\n",
       "       [7],\n",
       "       [8],\n",
       "       [9]])"
      ]
     },
     "execution_count": 41,
     "metadata": {},
     "output_type": "execute_result"
    }
   ],
   "source": [
    "# reshape 9x9 array into 9X1 \n",
    "np_multi_arr = np_multi_arr.reshape((9, 1))\n",
    "np_multi_arr"
   ]
  },
  {
   "cell_type": "code",
   "execution_count": 43,
   "id": "3def074a",
   "metadata": {},
   "outputs": [
    {
     "data": {
      "text/plain": [
       "(array([[1, 2, 3],\n",
       "        [4, 5, 6],\n",
       "        [7, 8, 9]]),\n",
       " (3, 3))"
      ]
     },
     "execution_count": 43,
     "metadata": {},
     "output_type": "execute_result"
    }
   ],
   "source": [
    "#shape of array\n",
    "multi_arr = [[1, 2, 3], [4, 5, 6], [7, 8, 9]]\n",
    "\n",
    "#multi dim array here, 2D\n",
    "np_multi_arr = np.array(multi_arr)\n",
    "\n",
    "np_multi_arr, np_multi_arr.shape"
   ]
  },
  {
   "cell_type": "code",
   "execution_count": 45,
   "id": "84ed953e",
   "metadata": {},
   "outputs": [
    {
     "data": {
      "text/plain": [
       "array([[1, 2, 3, 4, 5],\n",
       "       [6, 7, 8, 9, 1]])"
      ]
     },
     "execution_count": 45,
     "metadata": {},
     "output_type": "execute_result"
    }
   ],
   "source": [
    "np.resize(np_multi_arr, (2, 5)) \n",
    "#only returns the value, \n",
    "#does not modify the original array"
   ]
  },
  {
   "cell_type": "code",
   "execution_count": 46,
   "id": "b40bd518",
   "metadata": {},
   "outputs": [
    {
     "data": {
      "text/plain": [
       "array([[1, 2, 3],\n",
       "       [4, 5, 6],\n",
       "       [7, 8, 9]])"
      ]
     },
     "execution_count": 46,
     "metadata": {},
     "output_type": "execute_result"
    }
   ],
   "source": [
    "np_multi_arr #still the same. "
   ]
  },
  {
   "cell_type": "code",
   "execution_count": 47,
   "id": "39fdc157",
   "metadata": {},
   "outputs": [
    {
     "data": {
      "text/plain": [
       "array([[1, 4, 7],\n",
       "       [2, 5, 8],\n",
       "       [3, 6, 9]])"
      ]
     },
     "execution_count": 47,
     "metadata": {},
     "output_type": "execute_result"
    }
   ],
   "source": [
    "np_multi_arr.transpose()"
   ]
  },
  {
   "cell_type": "code",
   "execution_count": 48,
   "id": "b11e9fd8",
   "metadata": {},
   "outputs": [
    {
     "data": {
      "text/plain": [
       "array([[1, 4, 7],\n",
       "       [2, 5, 8],\n",
       "       [3, 6, 9]])"
      ]
     },
     "execution_count": 48,
     "metadata": {},
     "output_type": "execute_result"
    }
   ],
   "source": [
    "np_multi_arr.swapaxes(0, 1 #same as transpose for a 2d array"
   ]
  },
  {
   "cell_type": "code",
   "execution_count": 49,
   "id": "e2851d36",
   "metadata": {},
   "outputs": [
    {
     "data": {
      "text/plain": [
       "array([1, 4, 7, 2, 5, 8, 3, 6, 9])"
      ]
     },
     "execution_count": 49,
     "metadata": {},
     "output_type": "execute_result"
    }
   ],
   "source": [
    "np_multi_arr.flatten('F')\n",
    "\n",
    "'''\n",
    "Parameters\n",
    "order{‘C’, ‘F’, ‘A’, ‘K’} are optional\n",
    "‘C’ means to flatten in row-major (C-style) order. \n",
    "‘F’ means to flatten in column-major (Fortran- style) order. \n",
    "‘A’ means to flatten in column-major order \n",
    "if a is Fortran contiguous in memory, row-major order otherwise. \n",
    "‘K’ means to flatten a in \n",
    "the order the elements occur in memory. The default is ‘C’.\n",
    "'''"
   ]
  },
  {
   "cell_type": "code",
   "execution_count": 52,
   "id": "755f3c02",
   "metadata": {},
   "outputs": [
    {
     "data": {
      "text/plain": [
       "array([[1, 2, 3],\n",
       "       [4, 5, 6],\n",
       "       [7, 8, 9]])"
      ]
     },
     "execution_count": 52,
     "metadata": {},
     "output_type": "execute_result"
    }
   ],
   "source": [
    "np_multi_arr.sort(axis = 1)\n",
    "np_multi_arr"
   ]
  },
  {
   "cell_type": "markdown",
   "id": "85ffa8f6",
   "metadata": {},
   "source": [
    "### Stacking and splitting thingies"
   ]
  },
  {
   "cell_type": "code",
   "execution_count": 55,
   "id": "2ce783a4",
   "metadata": {},
   "outputs": [
    {
     "data": {
      "text/plain": [
       "array([[4, 2, 6],\n",
       "       [3, 5, 0]])"
      ]
     },
     "execution_count": 55,
     "metadata": {},
     "output_type": "execute_result"
    }
   ],
   "source": [
    "arr = np.random.randint(10, size=(2, 3))\n",
    "arr"
   ]
  },
  {
   "cell_type": "code",
   "execution_count": 57,
   "id": "ae3f8487",
   "metadata": {},
   "outputs": [
    {
     "data": {
      "text/plain": [
       "array([[4, 0, 2],\n",
       "       [1, 3, 4]])"
      ]
     },
     "execution_count": 57,
     "metadata": {},
     "output_type": "execute_result"
    }
   ],
   "source": [
    "arr2 = np.random.randint(10, size=(2, 3))\n",
    "arr2"
   ]
  },
  {
   "cell_type": "code",
   "execution_count": 58,
   "id": "d2c35e2a",
   "metadata": {},
   "outputs": [
    {
     "data": {
      "text/plain": [
       "array([[4, 2, 6, 4, 0, 2],\n",
       "       [3, 5, 0, 1, 3, 4]])"
      ]
     },
     "execution_count": 58,
     "metadata": {},
     "output_type": "execute_result"
    }
   ],
   "source": [
    "# stack horizontally\n",
    "np.hstack((arr, arr2))"
   ]
  },
  {
   "cell_type": "code",
   "execution_count": 59,
   "id": "fefb5267",
   "metadata": {},
   "outputs": [
    {
     "data": {
      "text/plain": [
       "array([[4, 2, 6],\n",
       "       [3, 5, 0],\n",
       "       [4, 0, 2],\n",
       "       [1, 3, 4]])"
      ]
     },
     "execution_count": 59,
     "metadata": {},
     "output_type": "execute_result"
    }
   ],
   "source": [
    "# vertically\n",
    "np.vstack((arr, arr2))"
   ]
  },
  {
   "cell_type": "code",
   "execution_count": 60,
   "id": "610eb72a",
   "metadata": {},
   "outputs": [
    {
     "data": {
      "text/plain": [
       "array([[4, 2, 6, 4, 0, 2],\n",
       "       [3, 5, 0, 1, 3, 4]])"
      ]
     },
     "execution_count": 60,
     "metadata": {},
     "output_type": "execute_result"
    }
   ],
   "source": [
    "# combine arrays\n",
    "np.column_stack((arr, arr2))"
   ]
  },
  {
   "cell_type": "code",
   "execution_count": 61,
   "id": "ca1522b5",
   "metadata": {},
   "outputs": [
    {
     "data": {
      "text/plain": [
       "array([[4, 2, 6],\n",
       "       [3, 5, 0],\n",
       "       [4, 0, 2],\n",
       "       [1, 3, 4]])"
      ]
     },
     "execution_count": 61,
     "metadata": {},
     "output_type": "execute_result"
    }
   ],
   "source": [
    "np.row_stack((arr, arr2))"
   ]
  },
  {
   "cell_type": "code",
   "execution_count": 62,
   "id": "4948459d",
   "metadata": {},
   "outputs": [
    {
     "data": {
      "text/plain": [
       "array([[1, 1, 7],\n",
       "       [6, 5, 4],\n",
       "       [6, 8, 5]])"
      ]
     },
     "execution_count": 62,
     "metadata": {},
     "output_type": "execute_result"
    }
   ],
   "source": [
    "# Split 3x3 array into 3 arrays\n",
    "arr = np.random.randint(10, size=(3, 3))\n",
    "arr"
   ]
  },
  {
   "cell_type": "code",
   "execution_count": 63,
   "id": "5b514acd",
   "metadata": {},
   "outputs": [
    {
     "data": {
      "text/plain": [
       "[array([[1],\n",
       "        [6],\n",
       "        [6]]),\n",
       " array([[1],\n",
       "        [5],\n",
       "        [8]]),\n",
       " array([[7],\n",
       "        [4],\n",
       "        [5]])]"
      ]
     },
     "execution_count": 63,
     "metadata": {},
     "output_type": "execute_result"
    }
   ],
   "source": [
    "np.hsplit(arr, 3) # horizontal split into 3 arrays"
   ]
  },
  {
   "cell_type": "code",
   "execution_count": 68,
   "id": "0ebb5d51",
   "metadata": {},
   "outputs": [],
   "source": [
    "# make a 2x10 array\n",
    "arr = np.random.randint(10, size=(2, 10))"
   ]
  },
  {
   "cell_type": "code",
   "execution_count": 69,
   "id": "192ed46b",
   "metadata": {},
   "outputs": [
    {
     "data": {
      "text/plain": [
       "(array([[9, 1, 1, 0, 7, 4, 8, 3, 2, 2],\n",
       "        [3, 4, 6, 0, 2, 7, 2, 8, 4, 8]]),\n",
       " [array([[9, 1],\n",
       "         [3, 4]]),\n",
       "  array([[1, 0, 7, 4],\n",
       "         [6, 0, 2, 7]]),\n",
       "  array([[8, 3, 2, 2],\n",
       "         [2, 8, 4, 8]])])"
      ]
     },
     "execution_count": 69,
     "metadata": {},
     "output_type": "execute_result"
    }
   ],
   "source": [
    "# horizontal split after 1st and 2nd column\n",
    "arr, np.hsplit(arr, (2,6))"
   ]
  },
  {
   "cell_type": "markdown",
   "id": "f642fee1",
   "metadata": {},
   "source": [
    "### Math funcs"
   ]
  },
  {
   "cell_type": "code",
   "execution_count": 71,
   "id": "3775eed0",
   "metadata": {},
   "outputs": [
    {
     "data": {
      "text/plain": [
       "(array([1, 2, 3, 4, 5]), array([10, 20, 30, 40, 50]))"
      ]
     },
     "execution_count": 71,
     "metadata": {},
     "output_type": "execute_result"
    }
   ],
   "source": [
    "arr = np.array([1, 2, 3, 4, 5])\n",
    "arr2 = np.array([10, 20, 30, 40, 50])\n",
    "\n",
    "arr, arr2"
   ]
  },
  {
   "cell_type": "code",
   "execution_count": 72,
   "id": "5b778e2d",
   "metadata": {},
   "outputs": [
    {
     "data": {
      "text/plain": [
       "(array([11, 22, 33, 44, 55]),\n",
       " array([ -9, -18, -27, -36, -45]),\n",
       " array([ 10,  40,  90, 160, 250]),\n",
       " array([0.1, 0.1, 0.1, 0.1, 0.1]))"
      ]
     },
     "execution_count": 72,
     "metadata": {},
     "output_type": "execute_result"
    }
   ],
   "source": [
    "# add, sub, mul, div\n",
    "arr + arr2, arr-arr2, arr*arr2, arr/arr2"
   ]
  },
  {
   "cell_type": "code",
   "execution_count": 75,
   "id": "4e5a2e56",
   "metadata": {},
   "outputs": [
    {
     "data": {
      "text/plain": [
       "array([[34, 29, 47],\n",
       "       [ 1, 43,  7],\n",
       "       [45, 13, 22]])"
      ]
     },
     "execution_count": 75,
     "metadata": {},
     "output_type": "execute_result"
    }
   ],
   "source": [
    "# multi dim array of 3x3 from 1 to 50\n",
    "arrm = np.random.randint(1, 50, (3, 3))\n",
    "arrm"
   ]
  },
  {
   "cell_type": "code",
   "execution_count": 76,
   "id": "fe1f426e",
   "metadata": {},
   "outputs": [
    {
     "data": {
      "text/plain": [
       "4"
      ]
     },
     "execution_count": 76,
     "metadata": {},
     "output_type": "execute_result"
    }
   ],
   "source": [
    "# a random val from arr\n",
    "np.random.choice(arr)"
   ]
  },
  {
   "cell_type": "code",
   "execution_count": 88,
   "id": "643fe32d",
   "metadata": {},
   "outputs": [],
   "source": [
    "np.random.seed(13) # seed makes it possible to reproduce random values"
   ]
  },
  {
   "cell_type": "code",
   "execution_count": 89,
   "id": "40f1b895",
   "metadata": {},
   "outputs": [
    {
     "data": {
      "text/plain": [
       "array([0.77770241, 0.23754122, 0.82427853])"
      ]
     },
     "execution_count": 89,
     "metadata": {},
     "output_type": "execute_result"
    }
   ],
   "source": [
    "np.random.rand(3)"
   ]
  },
  {
   "cell_type": "code",
   "execution_count": 92,
   "id": "74cbca65",
   "metadata": {},
   "outputs": [
    {
     "data": {
      "text/plain": [
       "array([0.77770241, 0.23754122, 0.82427853])"
      ]
     },
     "execution_count": 92,
     "metadata": {},
     "output_type": "execute_result"
    }
   ],
   "source": [
    "np.random.seed(13)\n",
    "np.random.rand(3)"
   ]
  },
  {
   "cell_type": "code",
   "execution_count": 94,
   "id": "34611daa",
   "metadata": {},
   "outputs": [
    {
     "data": {
      "text/plain": [
       "(array([1, 2, 3, 4, 5]), 15)"
      ]
     },
     "execution_count": 94,
     "metadata": {},
     "output_type": "execute_result"
    }
   ],
   "source": [
    "# sum\n",
    "arr, arr.sum()"
   ]
  },
  {
   "cell_type": "code",
   "execution_count": 95,
   "id": "b0670b7c",
   "metadata": {},
   "outputs": [
    {
     "data": {
      "text/plain": [
       "array([[34, 29, 47],\n",
       "       [ 1, 43,  7],\n",
       "       [45, 13, 22]])"
      ]
     },
     "execution_count": 95,
     "metadata": {},
     "output_type": "execute_result"
    }
   ],
   "source": [
    "arrm"
   ]
  },
  {
   "cell_type": "code",
   "execution_count": 96,
   "id": "abab1e63",
   "metadata": {},
   "outputs": [
    {
     "data": {
      "text/plain": [
       "array([110,  51,  80])"
      ]
     },
     "execution_count": 96,
     "metadata": {},
     "output_type": "execute_result"
    }
   ],
   "source": [
    "arrm.sum(axis = 1) #col wise sum"
   ]
  },
  {
   "cell_type": "code",
   "execution_count": 97,
   "id": "5a894255",
   "metadata": {},
   "outputs": [
    {
     "data": {
      "text/plain": [
       "(array([47, 43, 45]), array([29,  1, 13]))"
      ]
     },
     "execution_count": 97,
     "metadata": {},
     "output_type": "execute_result"
    }
   ],
   "source": [
    "# max and min of rows, col wise\n",
    "arrm.max(axis = 1), arrm.min(axis = 1)"
   ]
  },
  {
   "cell_type": "code",
   "execution_count": 98,
   "id": "c834e02f",
   "metadata": {},
   "outputs": [
    {
     "data": {
      "text/plain": [
       "array([ 10,  40,  90, 160, 250])"
      ]
     },
     "execution_count": 98,
     "metadata": {},
     "output_type": "execute_result"
    }
   ],
   "source": [
    "np.multiply(arr, arr2)"
   ]
  },
  {
   "cell_type": "code",
   "execution_count": 99,
   "id": "0be62987",
   "metadata": {},
   "outputs": [
    {
     "data": {
      "text/plain": [
       "array([0.1, 0.1, 0.1, 0.1, 0.1])"
      ]
     },
     "execution_count": 99,
     "metadata": {},
     "output_type": "execute_result"
    }
   ],
   "source": [
    "np.divide(arr, arr2)"
   ]
  },
  {
   "cell_type": "code",
   "execution_count": 100,
   "id": "eb219a89",
   "metadata": {},
   "outputs": [
    {
     "data": {
      "text/plain": [
       "array([1, 2, 3, 4, 5])"
      ]
     },
     "execution_count": 100,
     "metadata": {},
     "output_type": "execute_result"
    }
   ],
   "source": [
    "# remainder upon division\n",
    "np.remainder(arr, arr2)"
   ]
  },
  {
   "cell_type": "code",
   "execution_count": 102,
   "id": "e53f28dc",
   "metadata": {},
   "outputs": [
    {
     "data": {
      "text/plain": [
       "array([[     1,     16],\n",
       "       [   729, 262144]])"
      ]
     },
     "execution_count": 102,
     "metadata": {},
     "output_type": "execute_result"
    }
   ],
   "source": [
    "arr = np.array([[1, 2], [3, 4]])\n",
    "arr2 = np.array([[2, 4], [6, 9]])\n",
    "\n",
    "np.power (arr, arr2) # arr to power arr2"
   ]
  },
  {
   "cell_type": "code",
   "execution_count": 103,
   "id": "3fd64937",
   "metadata": {},
   "outputs": [
    {
     "data": {
      "text/plain": [
       "array([[1.        , 1.41421356],\n",
       "       [1.73205081, 2.        ]])"
      ]
     },
     "execution_count": 103,
     "metadata": {},
     "output_type": "execute_result"
    }
   ],
   "source": [
    "np.sqrt(arr) #square root"
   ]
  },
  {
   "cell_type": "code",
   "execution_count": 104,
   "id": "7ba4f0a6",
   "metadata": {},
   "outputs": [
    {
     "data": {
      "text/plain": [
       "array([[1.        , 1.25992105],\n",
       "       [1.44224957, 1.58740105]])"
      ]
     },
     "execution_count": 104,
     "metadata": {},
     "output_type": "execute_result"
    }
   ],
   "source": [
    "np.cbrt(arr) #cube root"
   ]
  },
  {
   "cell_type": "code",
   "execution_count": 105,
   "id": "b3979f87",
   "metadata": {},
   "outputs": [
    {
     "data": {
      "text/plain": [
       "array([ 2,  0,  5, 90])"
      ]
     },
     "execution_count": 105,
     "metadata": {},
     "output_type": "execute_result"
    }
   ],
   "source": [
    "np.absolute([-2, 0, -5, 90]) #remove signs"
   ]
  },
  {
   "cell_type": "code",
   "execution_count": 106,
   "id": "6f24570f",
   "metadata": {},
   "outputs": [
    {
     "data": {
      "text/plain": [
       "array([[ 2.71828183,  7.3890561 ],\n",
       "       [20.08553692, 54.59815003]])"
      ]
     },
     "execution_count": 106,
     "metadata": {},
     "output_type": "execute_result"
    }
   ],
   "source": [
    "# exp of all items\n",
    "np.exp(arr)"
   ]
  },
  {
   "cell_type": "code",
   "execution_count": 107,
   "id": "1de00f43",
   "metadata": {},
   "outputs": [
    {
     "data": {
      "text/plain": [
       "array([[0.        , 0.69314718],\n",
       "       [1.09861229, 1.38629436]])"
      ]
     },
     "execution_count": 107,
     "metadata": {},
     "output_type": "execute_result"
    }
   ],
   "source": [
    "np.log(arr) # log base e "
   ]
  },
  {
   "cell_type": "code",
   "execution_count": 108,
   "id": "a35e4dbd",
   "metadata": {},
   "outputs": [
    {
     "data": {
      "text/plain": [
       "array([[0.       , 1.       ],\n",
       "       [1.5849625, 2.       ]])"
      ]
     },
     "execution_count": 108,
     "metadata": {},
     "output_type": "execute_result"
    }
   ],
   "source": [
    "np.log2(arr) # log base 2"
   ]
  },
  {
   "cell_type": "code",
   "execution_count": 109,
   "id": "9deaa0ba",
   "metadata": {},
   "outputs": [
    {
     "data": {
      "text/plain": [
       "array([[0.        , 0.30103   ],\n",
       "       [0.47712125, 0.60205999]])"
      ]
     },
     "execution_count": 109,
     "metadata": {},
     "output_type": "execute_result"
    }
   ],
   "source": [
    "np.log10(arr) #log base 10"
   ]
  },
  {
   "cell_type": "code",
   "execution_count": 111,
   "id": "f6767aba",
   "metadata": {},
   "outputs": [
    {
     "data": {
      "text/plain": [
       "(3, 180)"
      ]
     },
     "execution_count": 111,
     "metadata": {},
     "output_type": "execute_result"
    }
   ],
   "source": [
    "# greatest common divisor(GCD), Lowest common multiple(LCM)\n",
    "np.gcd.reduce([9, 12, 15]), np.lcm.reduce([9, 12, 15])"
   ]
  },
  {
   "cell_type": "code",
   "execution_count": 112,
   "id": "41411d19",
   "metadata": {},
   "outputs": [
    {
     "data": {
      "text/plain": [
       "array([1., 2.])"
      ]
     },
     "execution_count": 112,
     "metadata": {},
     "output_type": "execute_result"
    }
   ],
   "source": [
    "# round to floor, ceiling\n",
    "\n",
    "np.floor([1.2, 2.8])"
   ]
  },
  {
   "cell_type": "code",
   "execution_count": 113,
   "id": "52d075a8",
   "metadata": {},
   "outputs": [
    {
     "data": {
      "text/plain": [
       "array([2., 3.])"
      ]
     },
     "execution_count": 113,
     "metadata": {},
     "output_type": "execute_result"
    }
   ],
   "source": [
    "np.ceil([1.2, 2.8])"
   ]
  },
  {
   "cell_type": "code",
   "execution_count": 131,
   "id": "207cb5a4",
   "metadata": {},
   "outputs": [
    {
     "name": "stdout",
     "output_type": "stream",
     "text": [
      "[[10 11 12]\n",
      " [13 14 15]]\n"
     ]
    },
    {
     "data": {
      "text/plain": [
       "array([1, 1, 1])"
      ]
     },
     "execution_count": 131,
     "metadata": {},
     "output_type": "execute_result"
    }
   ],
   "source": [
    "# argmax --> max value per row\n",
    "a = np.arange(6).reshape(2,3) + 10\n",
    "print(a)\n",
    "np.argmax(a, axis = 0)"
   ]
  },
  {
   "cell_type": "code",
   "execution_count": 132,
   "id": "fad0f7d9",
   "metadata": {},
   "outputs": [
    {
     "data": {
      "text/plain": [
       "array([2, 2])"
      ]
     },
     "execution_count": 132,
     "metadata": {},
     "output_type": "execute_result"
    }
   ],
   "source": [
    "np.argmax(a, axis = 1)"
   ]
  },
  {
   "cell_type": "code",
   "execution_count": 150,
   "id": "7208eef3",
   "metadata": {},
   "outputs": [
    {
     "data": {
      "text/plain": [
       "array([ 0.84147098,  0.90929743,  0.14112001, -0.7568025 , -0.95892427,\n",
       "       -0.2794155 ,  0.6569866 ,  0.98935825,  0.41211849])"
      ]
     },
     "execution_count": 150,
     "metadata": {},
     "output_type": "execute_result"
    }
   ],
   "source": [
    "np.sin(a) #trig functions"
   ]
  },
  {
   "cell_type": "code",
   "execution_count": 151,
   "id": "794c124d",
   "metadata": {},
   "outputs": [
    {
     "data": {
      "text/plain": [
       "(array([ 0.54030231, -0.41614684, -0.9899925 , -0.65364362,  0.28366219,\n",
       "         0.96017029,  0.75390225, -0.14550003, -0.91113026]),\n",
       " array([ 1.55740772, -2.18503986, -0.14254654,  1.15782128, -3.38051501,\n",
       "        -0.29100619,  0.87144798, -6.79971146, -0.45231566]))"
      ]
     },
     "execution_count": 151,
     "metadata": {},
     "output_type": "execute_result"
    }
   ],
   "source": [
    "np.cos(a), np.tan(a)"
   ]
  },
  {
   "cell_type": "code",
   "execution_count": 152,
   "id": "3d1d577b",
   "metadata": {},
   "outputs": [
    {
     "data": {
      "text/plain": [
       "3.141592653589793"
      ]
     },
     "execution_count": 152,
     "metadata": {},
     "output_type": "execute_result"
    }
   ],
   "source": [
    "np.pi #Pi constant"
   ]
  },
  {
   "cell_type": "code",
   "execution_count": 153,
   "id": "3abc5bde",
   "metadata": {},
   "outputs": [
    {
     "data": {
      "text/plain": [
       "(1.5707963267948966, 0.0, 0.7853981633974483)"
      ]
     },
     "execution_count": 153,
     "metadata": {},
     "output_type": "execute_result"
    }
   ],
   "source": [
    "np.arcsin(1), np.arccos(1), np.arctan(1)"
   ]
  },
  {
   "cell_type": "code",
   "execution_count": 154,
   "id": "df464bdd",
   "metadata": {},
   "outputs": [
    {
     "data": {
      "text/plain": [
       "180.0"
      ]
     },
     "execution_count": 154,
     "metadata": {},
     "output_type": "execute_result"
    }
   ],
   "source": [
    "# radian to deg and vice versa\n",
    "np.rad2deg(np.pi)"
   ]
  },
  {
   "cell_type": "code",
   "execution_count": 156,
   "id": "822bf015",
   "metadata": {},
   "outputs": [
    {
     "data": {
      "text/plain": [
       "3.141592653589793"
      ]
     },
     "execution_count": 156,
     "metadata": {},
     "output_type": "execute_result"
    }
   ],
   "source": [
    "np.deg2rad(180)"
   ]
  },
  {
   "cell_type": "code",
   "execution_count": 157,
   "id": "7109854f",
   "metadata": {},
   "outputs": [
    {
     "data": {
      "text/plain": [
       "5.0"
      ]
     },
     "execution_count": 157,
     "metadata": {},
     "output_type": "execute_result"
    }
   ],
   "source": [
    "#hypotenuse func\n",
    "np.hypot(3, 4)"
   ]
  },
  {
   "cell_type": "markdown",
   "id": "57336a9d",
   "metadata": {},
   "source": [
    "### Statistics functions"
   ]
  },
  {
   "cell_type": "code",
   "execution_count": 149,
   "id": "3ff7788b",
   "metadata": {},
   "outputs": [
    {
     "data": {
      "text/plain": [
       "array([1, 2, 3, 4, 5, 6, 7, 8, 9])"
      ]
     },
     "execution_count": 149,
     "metadata": {},
     "output_type": "execute_result"
    }
   ],
   "source": [
    "a = np.arange(1, 10)\n",
    "a"
   ]
  },
  {
   "cell_type": "code",
   "execution_count": 143,
   "id": "34c555cb",
   "metadata": {},
   "outputs": [
    {
     "data": {
      "text/plain": [
       "5.0"
      ]
     },
     "execution_count": 143,
     "metadata": {},
     "output_type": "execute_result"
    }
   ],
   "source": [
    "#mean\n",
    "np.mean(a)"
   ]
  },
  {
   "cell_type": "code",
   "execution_count": 144,
   "id": "ff1a28f6",
   "metadata": {},
   "outputs": [
    {
     "data": {
      "text/plain": [
       "5.0"
      ]
     },
     "execution_count": 144,
     "metadata": {},
     "output_type": "execute_result"
    }
   ],
   "source": [
    "np.median(a)\n",
    "#median"
   ]
  },
  {
   "cell_type": "code",
   "execution_count": 145,
   "id": "1ca12fa4",
   "metadata": {},
   "outputs": [
    {
     "data": {
      "text/plain": [
       "5.0"
      ]
     },
     "execution_count": 145,
     "metadata": {},
     "output_type": "execute_result"
    }
   ],
   "source": [
    "np.average(a)\n",
    "#average"
   ]
  },
  {
   "cell_type": "code",
   "execution_count": 146,
   "id": "89afdfcb",
   "metadata": {},
   "outputs": [
    {
     "data": {
      "text/plain": [
       "2.581988897471611"
      ]
     },
     "execution_count": 146,
     "metadata": {},
     "output_type": "execute_result"
    }
   ],
   "source": [
    "np.std(a)\n",
    "#standard dev"
   ]
  },
  {
   "cell_type": "code",
   "execution_count": 147,
   "id": "8d22f684",
   "metadata": {},
   "outputs": [
    {
     "data": {
      "text/plain": [
       "6.666666666666667"
      ]
     },
     "execution_count": 147,
     "metadata": {},
     "output_type": "execute_result"
    }
   ],
   "source": [
    "np.var(a)\n",
    "#variance"
   ]
  },
  {
   "cell_type": "code",
   "execution_count": 148,
   "id": "60a3e684",
   "metadata": {},
   "outputs": [
    {
     "data": {
      "text/plain": [
       "5.0"
      ]
     },
     "execution_count": 148,
     "metadata": {},
     "output_type": "execute_result"
    }
   ],
   "source": [
    "np.percentile(a, 50, axis = 0) #get 50 percentile of a"
   ]
  },
  {
   "cell_type": "markdown",
   "id": "a279de0d",
   "metadata": {},
   "source": [
    "### Matrix usecases"
   ]
  },
  {
   "cell_type": "code",
   "execution_count": 160,
   "id": "d989cb81",
   "metadata": {},
   "outputs": [
    {
     "data": {
      "text/plain": [
       "array([False,  True])"
      ]
     },
     "execution_count": 160,
     "metadata": {},
     "output_type": "execute_result"
    }
   ],
   "source": [
    "arr1 = np.array([2, 3])\n",
    "arr2 = np.array([3, 2])\n",
    "\n",
    "#compare functions\n",
    "np.greater(arr1, arr2)"
   ]
  },
  {
   "cell_type": "code",
   "execution_count": 162,
   "id": "51cba8e4",
   "metadata": {},
   "outputs": [
    {
     "data": {
      "text/plain": [
       "array([ True, False])"
      ]
     },
     "execution_count": 162,
     "metadata": {},
     "output_type": "execute_result"
    }
   ],
   "source": [
    "np.less(arr1, arr2)"
   ]
  },
  {
   "cell_type": "code",
   "execution_count": 163,
   "id": "a2ff16f4",
   "metadata": {},
   "outputs": [
    {
     "data": {
      "text/plain": [
       "(array([False,  True]), array([ True, False]))"
      ]
     },
     "execution_count": 163,
     "metadata": {},
     "output_type": "execute_result"
    }
   ],
   "source": [
    "np.greater_equal(arr1, arr2), np.less_equal(arr1, arr2)"
   ]
  },
  {
   "cell_type": "code",
   "execution_count": 164,
   "id": "a7e1c6f3",
   "metadata": {},
   "outputs": [
    {
     "data": {
      "text/plain": [
       "array([ True,  True])"
      ]
     },
     "execution_count": 164,
     "metadata": {},
     "output_type": "execute_result"
    }
   ],
   "source": [
    "np.not_equal(arr1, arr2)"
   ]
  },
  {
   "cell_type": "code",
   "execution_count": 165,
   "id": "2d3f7bce",
   "metadata": {},
   "outputs": [
    {
     "data": {
      "text/plain": [
       "array([False, False])"
      ]
     },
     "execution_count": 165,
     "metadata": {},
     "output_type": "execute_result"
    }
   ],
   "source": [
    "np.equal(arr1, arr2)"
   ]
  },
  {
   "cell_type": "code",
   "execution_count": 166,
   "id": "0c549d2b",
   "metadata": {},
   "outputs": [],
   "source": [
    "from numpy import linalg as LA"
   ]
  },
  {
   "cell_type": "code",
   "execution_count": 175,
   "id": "95deca9d",
   "metadata": {},
   "outputs": [
    {
     "data": {
      "text/plain": [
       "(array([[4, 4],\n",
       "        [1, 3]]),\n",
       " array([[7, 7],\n",
       "        [9, 6]]))"
      ]
     },
     "execution_count": 175,
     "metadata": {},
     "output_type": "execute_result"
    }
   ],
   "source": [
    "a1 = np.random.randint(1, 5, (2, 2))\n",
    "a2 = np.random.randint(6, 10, (2, 2))\n",
    "\n",
    "a1, a2"
   ]
  },
  {
   "cell_type": "code",
   "execution_count": 176,
   "id": "61a23514",
   "metadata": {},
   "outputs": [
    {
     "data": {
      "text/plain": [
       "array([[64, 52],\n",
       "       [34, 25]])"
      ]
     },
     "execution_count": 176,
     "metadata": {},
     "output_type": "execute_result"
    }
   ],
   "source": [
    "np.dot(a1, a2) #dot product"
   ]
  },
  {
   "cell_type": "code",
   "execution_count": 179,
   "id": "c55eefc7",
   "metadata": {},
   "outputs": [
    {
     "data": {
      "text/plain": [
       "array([[1352, 1624],\n",
       "       [ 692,  826]])"
      ]
     },
     "execution_count": 179,
     "metadata": {},
     "output_type": "execute_result"
    }
   ],
   "source": [
    "#dot over two or more arrays\n",
    "\n",
    "a3 = np.random.randint(10, 20, (2, 2))\n",
    "\n",
    "LA.multi_dot([a1, a2, a3])"
   ]
  },
  {
   "cell_type": "code",
   "execution_count": 180,
   "id": "a5c53a2f",
   "metadata": {},
   "outputs": [
    {
     "data": {
      "text/plain": [
       "array([[56, 60],\n",
       "       [28, 27]])"
      ]
     },
     "execution_count": 180,
     "metadata": {},
     "output_type": "execute_result"
    }
   ],
   "source": [
    "#inner product\n",
    "np.inner(a1, a2)"
   ]
  },
  {
   "cell_type": "code",
   "execution_count": 181,
   "id": "c695c168",
   "metadata": {},
   "outputs": [
    {
     "data": {
      "text/plain": [
       "(array([5.56155281, 1.43844719]),\n",
       " array([[ 0.93153209, -0.84212294],\n",
       "        [ 0.36365914,  0.5392856 ]]))"
      ]
     },
     "execution_count": 181,
     "metadata": {},
     "output_type": "execute_result"
    }
   ],
   "source": [
    "#eigenvalues and eigenvectors\n",
    "LA.eig(a1)"
   ]
  },
  {
   "cell_type": "code",
   "execution_count": 182,
   "id": "2e1d211a",
   "metadata": {},
   "outputs": [
    {
     "data": {
      "text/plain": [
       "array([5.56155281, 1.43844719])"
      ]
     },
     "execution_count": 182,
     "metadata": {},
     "output_type": "execute_result"
    }
   ],
   "source": [
    "LA.eigvals(a1)"
   ]
  },
  {
   "cell_type": "code",
   "execution_count": 183,
   "id": "bbb30a7e",
   "metadata": {},
   "outputs": [
    {
     "data": {
      "text/plain": [
       "6.48074069840786"
      ]
     },
     "execution_count": 183,
     "metadata": {},
     "output_type": "execute_result"
    }
   ],
   "source": [
    "#vector norm --> sqrt(sum(x**2))\n",
    "LA.norm(a1)"
   ]
  },
  {
   "cell_type": "code",
   "execution_count": 184,
   "id": "26285f30",
   "metadata": {},
   "outputs": [
    {
     "data": {
      "text/plain": [
       "array([[ 0.375, -0.5  ],\n",
       "       [-0.125,  0.5  ]])"
      ]
     },
     "execution_count": 184,
     "metadata": {},
     "output_type": "execute_result"
    }
   ],
   "source": [
    "#inverse\n",
    "LA.inv(a1)"
   ]
  },
  {
   "cell_type": "code",
   "execution_count": 185,
   "id": "8ef6a516",
   "metadata": {},
   "outputs": [
    {
     "data": {
      "text/plain": [
       "5.052060979868452"
      ]
     },
     "execution_count": 185,
     "metadata": {},
     "output_type": "execute_result"
    }
   ],
   "source": [
    "#conditional number\n",
    "LA.cond(a1)"
   ]
  },
  {
   "cell_type": "code",
   "execution_count": 187,
   "id": "8f2fa910",
   "metadata": {},
   "outputs": [
    {
     "data": {
      "text/plain": [
       "array([[20, 28],\n",
       "       [ 7, 13]])"
      ]
     },
     "execution_count": 187,
     "metadata": {},
     "output_type": "execute_result"
    }
   ],
   "source": [
    "# raise matrix to the power of n\n",
    "# Given [[a, b], [c, d]]\n",
    "# [[a² + bc, ab + db], [ac + dc, d² + bc]\n",
    "\n",
    "LA.matrix_power(a1, 2)"
   ]
  },
  {
   "cell_type": "code",
   "execution_count": 188,
   "id": "fa839853",
   "metadata": {},
   "outputs": [
    {
     "data": {
      "text/plain": [
       "7.999999999999998"
      ]
     },
     "execution_count": 188,
     "metadata": {},
     "output_type": "execute_result"
    }
   ],
   "source": [
    "# determinant --> det([[a, b], [c, d]]) = a*d - b*c\n",
    "LA.det(a1)"
   ]
  },
  {
   "cell_type": "code",
   "execution_count": 189,
   "id": "171d4109",
   "metadata": {},
   "outputs": [
    {
     "data": {
      "text/plain": [
       "array([[1., 0.],\n",
       "       [0., 1.]])"
      ]
     },
     "execution_count": 189,
     "metadata": {},
     "output_type": "execute_result"
    }
   ],
   "source": [
    "# matrix x its inverse gives identity\n",
    "np.dot(a1, LA.inv(a1))"
   ]
  },
  {
   "cell_type": "markdown",
   "id": "88dd1891",
   "metadata": {},
   "source": [
    "### Save and load numpy objects\n"
   ]
  },
  {
   "cell_type": "code",
   "execution_count": 192,
   "id": "a419653c",
   "metadata": {},
   "outputs": [],
   "source": [
    "a = np.array([[1, 2], [3, 4]])\n",
    "np.save('a_array', a) #saves as .npy file on disk"
   ]
  },
  {
   "cell_type": "code",
   "execution_count": 193,
   "id": "7332ebe1",
   "metadata": {},
   "outputs": [
    {
     "data": {
      "text/plain": [
       "array([[1, 2],\n",
       "       [3, 4]])"
      ]
     },
     "execution_count": 193,
     "metadata": {},
     "output_type": "execute_result"
    }
   ],
   "source": [
    "# load \n",
    "a1 = np.load('a_array.npy')\n",
    "a1"
   ]
  },
  {
   "cell_type": "code",
   "execution_count": 194,
   "id": "772eac93",
   "metadata": {},
   "outputs": [],
   "source": [
    "# as csv\n",
    "np.savetxt('a.csv', a)"
   ]
  },
  {
   "cell_type": "code",
   "execution_count": 195,
   "id": "2c523fe0",
   "metadata": {},
   "outputs": [
    {
     "data": {
      "text/plain": [
       "array([[1., 2.],\n",
       "       [3., 4.]])"
      ]
     },
     "execution_count": 195,
     "metadata": {},
     "output_type": "execute_result"
    }
   ],
   "source": [
    "a2 = np.loadtxt('a.csv')\n",
    "a2"
   ]
  },
  {
   "cell_type": "code",
   "execution_count": null,
   "id": "a46bbe8c",
   "metadata": {},
   "outputs": [],
   "source": [
    "# or load csv via pandas, mor convenient that way"
   ]
  }
 ],
 "metadata": {
  "kernelspec": {
   "display_name": "Python 3",
   "language": "python",
   "name": "python3"
  },
  "language_info": {
   "codemirror_mode": {
    "name": "ipython",
    "version": 3
   },
   "file_extension": ".py",
   "mimetype": "text/x-python",
   "name": "python",
   "nbconvert_exporter": "python",
   "pygments_lexer": "ipython3",
   "version": "3.9.1"
  }
 },
 "nbformat": 4,
 "nbformat_minor": 5
}
