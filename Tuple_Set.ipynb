{
  "nbformat": 4,
  "nbformat_minor": 0,
  "metadata": {
    "colab": {
      "provenance": []
    },
    "kernelspec": {
      "name": "python3",
      "display_name": "Python 3"
    },
    "language_info": {
      "name": "python"
    }
  },
  "cells": [
    {
      "cell_type": "markdown",
      "source": [
        "# Tuple"
      ],
      "metadata": {
        "id": "d0hMJamvJ_e1"
      }
    },
    {
      "cell_type": "code",
      "source": [
        "tup1 = ('1', 'One', \"Two\", 6)\n",
        "tup2 = (\"3\", )\n",
        "tup3 = 'one', 'two', 'three'\n",
        "tup4 = ()\n",
        "tup5 = 4, 1, 3, 2, 5\n",
        "\n",
        "# Tuple constructor\n",
        "s = \"28tech\"\n",
        "tup6 = tuple(s)\n",
        "tup7 = tuple([1, 2, 3])\n",
        "\n",
        "# Iterable\n",
        "tuple_iterable = (\"28tech\", \"python\", \"java\", \"C++\")\n",
        "for i in range(len(tuple_iterable)):\n",
        "  print(tuple_iterable[i], end = ' ')\n",
        "print()\n",
        "\n",
        "# Tuple cannot be modified but list element in tuple can be\n",
        "tup8 = (\"28tech\", [1, 2, 3], \"java\", \"C++\")\n",
        "tup8[1][0] = 100\n",
        "print(tup8)\n",
        "\n",
        "# Catenation vs lap lai tuple\n",
        "cate = tup1 + tup2\n",
        "lap = tup3 * 3\n",
        "print(cate, lap, sep = '\\n')\n",
        "\n",
        "# functions\n",
        "list(tup5).sort() # tuple(sorted(tup5))\n",
        "find_element = tup5.index(1)\n",
        "print(tup5.count(find_element))\n"
      ],
      "metadata": {
        "colab": {
          "base_uri": "https://localhost:8080/"
        },
        "id": "BjpN1aDTKBYH",
        "outputId": "310a1167-9bfa-4669-9a4b-3b4d5ff169d9"
      },
      "execution_count": null,
      "outputs": [
        {
          "output_type": "stream",
          "name": "stdout",
          "text": [
            "28tech python java C++ \n",
            "('28tech', [100, 2, 3], 'java', 'C++')\n",
            "('1', 'One', 'Two', 6, '3')\n",
            "('one', 'two', 'three', 'one', 'two', 'three', 'one', 'two', 'three')\n",
            "1\n"
          ]
        }
      ]
    },
    {
      "cell_type": "markdown",
      "source": [
        "# Set"
      ],
      "metadata": {
        "id": "D9LEXeLeCCLf"
      }
    },
    {
      "cell_type": "code",
      "source": [
        "se = {1, 2, 3, 1, 2, \"abcd\"} # Cannot store element type list because it is mutable\n",
        "print(se)\n",
        "\n",
        "# set constructor\n",
        "ls1 = [1, 2, 3, \"java\", \"php\"]\n",
        "se1 = set(ls1)\n",
        "print(se1)\n",
        "\n",
        "# add element\n",
        "se.add('ty') # one element\n",
        "print(se)\n",
        "\n",
        "se.update([100, 'string1']) # more element\n",
        "print(se)\n",
        "\n",
        "# remove element\n",
        "se.remove('ty') # error when remove element that not in set\n",
        "se.discard('hello') # opposite remove\n",
        "print(se)\n",
        "se.pop()\n",
        "se.clear()\n",
        "print(se)\n",
        "\n",
        "# set operations\n",
        "res1 = se1 | se # se.union(se1)\n",
        "res2 = se1 & se # intersection\n",
        "res3 = se1 - se # se1.difference(se)\n",
        "res4 = se1 ^ se # symmetric difference\n",
        "print(res1, res2, res3, res4, sep = '\\n')\n",
        "\n",
        "res5 = se1.isdisjoint(se)\n",
        "res6 = se1.issubset(se)\n",
        "res7 = se1.issuperset(se)\n",
        "print(res5, res6, res7, sep='\\n')"
      ],
      "metadata": {
        "colab": {
          "base_uri": "https://localhost:8080/"
        },
        "id": "f3JDpKn8CDgN",
        "outputId": "1669a5cf-fc8d-4204-f8a2-e234221d82b8"
      },
      "execution_count": null,
      "outputs": [
        {
          "output_type": "stream",
          "name": "stdout",
          "text": [
            "{1, 2, 3, 'abcd'}\n",
            "{1, 2, 3, 'java', 'php'}\n",
            "{1, 2, 3, 'ty', 'abcd'}\n",
            "{1, 2, 3, 100, 'ty', 'string1', 'abcd'}\n",
            "{1, 2, 3, 100, 'string1', 'abcd'}\n",
            "set()\n",
            "{1, 2, 3, 'php', 'java'}\n",
            "set()\n",
            "{1, 2, 3, 'php', 'java'}\n",
            "{1, 2, 3, 'java', 'php'}\n",
            "True\n",
            "False\n",
            "True\n"
          ]
        }
      ]
    }
  ]
}